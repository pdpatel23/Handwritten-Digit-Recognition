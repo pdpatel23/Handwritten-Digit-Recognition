{
 "cells": [
  {
   "cell_type": "code",
   "execution_count": 1,
   "id": "48d2c17d-ed82-4dc7-b1d9-03bc12ba5452",
   "metadata": {
    "tags": []
   },
   "outputs": [],
   "source": [
    "import tensorflow as tf\n",
    "import os\n",
    "import cv2\n",
    "import numpy as np\n",
    "import matplotlib.pyplot as plt\n",
    "\n",
    "import imghdr"
   ]
  },
  {
   "cell_type": "markdown",
   "id": "6af6d79d-0009-4793-adce-a20781e9a80c",
   "metadata": {
    "tags": []
   },
   "source": [
    "# 1. LOAD DATA SET"
   ]
  },
  {
   "cell_type": "markdown",
   "id": "3d23cf80-ac06-4ba0-b937-0c26113cc414",
   "metadata": {},
   "source": [
    "## keras:\n",
    "### - API that allows users to define and train neural network models \n",
    "### - user can add/remove/modify layers in neural network\n",
    "\n",
    "## keras.datasets:\n",
    "### - loads datasets for machine learning and deep learning tasks\n",
    "\n",
    "## mnist: \n",
    "## - 28x28 pixel grayscale images of handwritten digits (0-9) and their corresponding labels\n",
    "## - 60,000 training images and 10,000 testing images\n",
    "## tuple of training and testing data"
   ]
  },
  {
   "cell_type": "code",
   "execution_count": 2,
   "id": "4be81ef0-2f51-4a03-be33-3699f7c98286",
   "metadata": {
    "tags": []
   },
   "outputs": [],
   "source": [
    "mnist = tf.keras.datasets.mnist"
   ]
  },
  {
   "cell_type": "markdown",
   "id": "3a1965f2-d79d-4346-bae0-89b2fb08e97a",
   "metadata": {},
   "source": [
    "# 2. SPLIT DATA"
   ]
  },
  {
   "cell_type": "markdown",
   "id": "64992009-8f89-4e60-b7b1-cd6783c13168",
   "metadata": {},
   "source": [
    "## mnist.load_data():\n",
    "### - loads mnist dataset\n",
    "### - returns two tuples --> one for training data and labels and one for test data and lables\n",
    "\n",
    "## (x_train, y_train),(x_test, y_test):\n",
    "### - syntax called tuple unpacking --> used to unpack elements of two tuples returned by mnist.load_data() in to 4 vars: x_train, y_train, x_test, y_test\n",
    "### - x_train: 3D array, each element represents 28x28 pixel grayscale image\n",
    "###            height of each image, width of each image, and channel dimension: 1 for grayscale (3 for RGB)\n",
    "### - y_train: labels corresponding to training images, each label (0-9) indicates the digit represented by corresponding image in x_train\n",
    "### - x_test: contains test images, similar to x_train\n",
    "### - y_test: contains labels corresponding to test images, similar to y_train"
   ]
  },
  {
   "cell_type": "code",
   "execution_count": 3,
   "id": "09ab3bd8-b810-4a7c-82ce-1e3c78656f8f",
   "metadata": {
    "tags": []
   },
   "outputs": [],
   "source": [
    "#have access to training and testing data w/ their corresponding labels \n",
    "(x_train, y_train),(x_test, y_test) = mnist.load_data()"
   ]
  },
  {
   "cell_type": "code",
   "execution_count": 4,
   "id": "ac301241-4731-47b3-83ad-491ba023bf9a",
   "metadata": {
    "tags": []
   },
   "outputs": [
    {
     "data": {
      "image/png": "[encoded data removed]",
      "text/plain": [
       "<Figure size 640x480 with 5 Axes>"
      ]
     },
     "metadata": {},
     "output_type": "display_data"
    }
   ],
   "source": [
    "#printing the visulization of data\n",
    "num_images_to_plot = 5\n",
    "\n",
    "for i in range(num_images_to_plot):\n",
    "    \n",
    "    #subplot = arranges multiple plots in a grid \n",
    "    # 1 = one row in subplot grid\n",
    "    # num_images_to_plot = total number of cols in subplot\n",
    "    # i + 1 = position of current subplot within the grid \n",
    "    plt.subplot(1, num_images_to_plot, i + 1)\n",
    "    \n",
    "    #shows the i-th training image using 'gray' colormap\n",
    "    plt.imshow(x_train[i], cmap = 'gray')\n",
    "    \n",
    "    #sets the title of current subplot to display corresponding label of image\n",
    "    plt.title(f\"Label: {y_train[i]}\")\n",
    "    \n",
    "    #turns off the axis labels and ticks for current subplot\n",
    "    plt.axis('off')\n",
    "plt.show()"
   ]
  },
  {
   "cell_type": "code",
   "execution_count": 5,
   "id": "90fcbdfc-b409-469c-8713-ae26199ce801",
   "metadata": {
    "tags": []
   },
   "outputs": [
    {
     "data": {
      "text/plain": [
       "(60000, 28, 28)"
      ]
     },
     "execution_count": 5,
     "metadata": {},
     "output_type": "execute_result"
    }
   ],
   "source": [
    "#60000 training images each with size 28x28\n",
    "x_train.shape"
   ]
  },
  {
   "cell_type": "code",
   "execution_count": 6,
   "id": "72c30575-3ec6-4fff-8fb5-28668b874ed3",
   "metadata": {
    "tags": []
   },
   "outputs": [
    {
     "data": {
      "image/png": "[encoded data removed]",
      "text/plain": [
       "<Figure size 640x480 with 1 Axes>"
      ]
     },
     "metadata": {},
     "output_type": "display_data"
    },
    {
     "data": {
      "text/plain": [
       "<matplotlib.image.AxesImage at 0x1f8c788cd60>"
      ]
     },
     "execution_count": 6,
     "metadata": {},
     "output_type": "execute_result"
    },
    {
     "data": {
      "image/png": "[encoded data removed]",
      "text/plain": [
       "<Figure size 640x480 with 1 Axes>"
      ]
     },
     "metadata": {},
     "output_type": "display_data"
    }
   ],
   "source": [
    "#displays the first training image \n",
    "#x_train[0] = 2D array representing grayscale image (28x28 pixels)\n",
    "#default color map --> cmap maps pixel vals to colors \n",
    "plt.imshow(x_train[0])\n",
    "\n",
    "#dispalys figures created by Matplotlib\n",
    "plt.show()\n",
    "\n",
    "#cmap = sets colormap\n",
    "# - plt.cm.binary: represents low values as black and high values as white\n",
    "# - graph is oppositve: black should be white and vice versa\n",
    "# - reverted the columns when did plt.cm.binary\n",
    "plt.imshow(x_train[0], cmap = plt.cm.binary)"
   ]
  },
  {
   "cell_type": "code",
   "execution_count": 7,
   "id": "d5b62823-1f37-4d73-ab97-f58bbb35cbfe",
   "metadata": {
    "tags": []
   },
   "outputs": [
    {
     "name": "stdout",
     "output_type": "stream",
     "text": [
      "[[  0   0   0   0   0   0   0   0   0   0   0   0   0   0   0   0   0   0\n",
      "    0   0   0   0   0   0   0   0   0   0]\n",
      " [  0   0   0   0   0   0   0   0   0   0   0   0   0   0   0   0   0   0\n",
      "    0   0   0   0   0   0   0   0   0   0]\n",
      " [  0   0   0   0   0   0   0   0   0   0   0   0   0   0   0   0   0   0\n",
      "    0   0   0   0   0   0   0   0   0   0]\n",
      " [  0   0   0   0   0   0   0   0   0   0   0   0   0   0   0   0   0   0\n",
      "    0   0   0   0   0   0   0   0   0   0]\n",
      " [  0   0   0   0   0   0   0   0   0   0   0   0   0   0   0   0   0   0\n",
      "    0   0   0   0   0   0   0   0   0   0]\n",
      " [  0   0   0   0   0   0   0   0   0   0   0   0   3  18  18  18 126 136\n",
      "  175  26 166 255 247 127   0   0   0   0]\n",
      " [  0   0   0   0   0   0   0   0  30  36  94 154 170 253 253 253 253 253\n",
      "  225 172 253 242 195  64   0   0   0   0]\n",
      " [  0   0   0   0   0   0   0  49 238 253 253 253 253 253 253 253 253 251\n",
      "   93  82  82  56  39   0   0   0   0   0]\n",
      " [  0   0   0   0   0   0   0  18 219 253 253 253 253 253 198 182 247 241\n",
      "    0   0   0   0   0   0   0   0   0   0]\n",
      " [  0   0   0   0   0   0   0   0  80 156 107 253 253 205  11   0  43 154\n",
      "    0   0   0   0   0   0   0   0   0   0]\n",
      " [  0   0   0   0   0   0   0   0   0  14   1 154 253  90   0   0   0   0\n",
      "    0   0   0   0   0   0   0   0   0   0]\n",
      " [  0   0   0   0   0   0   0   0   0   0   0 139 253 190   2   0   0   0\n",
      "    0   0   0   0   0   0   0   0   0   0]\n",
      " [  0   0   0   0   0   0   0   0   0   0   0  11 190 253  70   0   0   0\n",
      "    0   0   0   0   0   0   0   0   0   0]\n",
      " [  0   0   0   0   0   0   0   0   0   0   0   0  35 241 225 160 108   1\n",
      "    0   0   0   0   0   0   0   0   0   0]\n",
      " [  0   0   0   0   0   0   0   0   0   0   0   0   0  81 240 253 253 119\n",
      "   25   0   0   0   0   0   0   0   0   0]\n",
      " [  0   0   0   0   0   0   0   0   0   0   0   0   0   0  45 186 253 253\n",
      "  150  27   0   0   0   0   0   0   0   0]\n",
      " [  0   0   0   0   0   0   0   0   0   0   0   0   0   0   0  16  93 252\n",
      "  253 187   0   0   0   0   0   0   0   0]\n",
      " [  0   0   0   0   0   0   0   0   0   0   0   0   0   0   0   0   0 249\n",
      "  253 249  64   0   0   0   0   0   0   0]\n",
      " [  0   0   0   0   0   0   0   0   0   0   0   0   0   0  46 130 183 253\n",
      "  253 207   2   0   0   0   0   0   0   0]\n",
      " [  0   0   0   0   0   0   0   0   0   0   0   0  39 148 229 253 253 253\n",
      "  250 182   0   0   0   0   0   0   0   0]\n",
      " [  0   0   0   0   0   0   0   0   0   0  24 114 221 253 253 253 253 201\n",
      "   78   0   0   0   0   0   0   0   0   0]\n",
      " [  0   0   0   0   0   0   0   0  23  66 213 253 253 253 253 198  81   2\n",
      "    0   0   0   0   0   0   0   0   0   0]\n",
      " [  0   0   0   0   0   0  18 171 219 253 253 253 253 195  80   9   0   0\n",
      "    0   0   0   0   0   0   0   0   0   0]\n",
      " [  0   0   0   0  55 172 226 253 253 253 253 244 133  11   0   0   0   0\n",
      "    0   0   0   0   0   0   0   0   0   0]\n",
      " [  0   0   0   0 136 253 253 253 212 135 132  16   0   0   0   0   0   0\n",
      "    0   0   0   0   0   0   0   0   0   0]\n",
      " [  0   0   0   0   0   0   0   0   0   0   0   0   0   0   0   0   0   0\n",
      "    0   0   0   0   0   0   0   0   0   0]\n",
      " [  0   0   0   0   0   0   0   0   0   0   0   0   0   0   0   0   0   0\n",
      "    0   0   0   0   0   0   0   0   0   0]\n",
      " [  0   0   0   0   0   0   0   0   0   0   0   0   0   0   0   0   0   0\n",
      "    0   0   0   0   0   0   0   0   0   0]]\n"
     ]
    }
   ],
   "source": [
    "#Checking the Values of Each Pixel: before normalization\n",
    "# 0 = black\n",
    "# 255 = white\n",
    "# in between = gray\n",
    "\n",
    "#numbers greater than 0 --> look like 5\n",
    "print(x_train[0])"
   ]
  },
  {
   "cell_type": "markdown",
   "id": "bfc4ebb5-bd1a-43b8-917d-0d9102bad91e",
   "metadata": {
    "tags": []
   },
   "source": [
    "# 3. Pre-Processing Step"
   ]
  },
  {
   "cell_type": "markdown",
   "id": "cf0b0474-0f3c-4859-9cbd-b47eff3a60db",
   "metadata": {},
   "source": [
    "## normalize = scale pixel values of images in training and testing sets\n",
    "### - normalization: prevents certain features from dominating due to their larger scale (if color changes, we don't need to care about it)\n",
    "### - axis = 1 --> normalization should be performed along second axis (cols)\n",
    "###                ensures that pixel values are scaled consistently acorss all images \n",
    "### if axis = 0 --> normalizes pixels based on each individual image instead (each image normalized separately)\n",
    "### cols = represent pixel vals in images"
   ]
  },
  {
   "cell_type": "code",
   "execution_count": 8,
   "id": "70e6e606-fc89-4672-bcb1-150e48a4f037",
   "metadata": {
    "tags": []
   },
   "outputs": [
    {
     "data": {
      "text/plain": [
       "<matplotlib.image.AxesImage at 0x1f8c7920880>"
      ]
     },
     "execution_count": 8,
     "metadata": {},
     "output_type": "execute_result"
    },
    {
     "data": {
      "image/png": "[encoded data removed]",
      "text/plain": [
       "<Figure size 640x480 with 1 Axes>"
      ]
     },
     "metadata": {},
     "output_type": "display_data"
    }
   ],
   "source": [
    "x_train = tf.keras.utils.normalize(x_train, axis = 1)\n",
    "x_test = tf.keras.utils.normalize(x_test, axis = 1)\n",
    "\n",
    "plt.imshow(x_train[0], cmap = plt.cm.binary)"
   ]
  },
  {
   "cell_type": "code",
   "execution_count": 9,
   "id": "25d5c4d0-54c1-4984-9524-dea9ec4473c6",
   "metadata": {
    "tags": []
   },
   "outputs": [
    {
     "name": "stdout",
     "output_type": "stream",
     "text": [
      "[[0.         0.         0.         0.         0.         0.\n",
      "  0.         0.         0.         0.         0.         0.\n",
      "  0.         0.         0.         0.         0.         0.\n",
      "  0.         0.         0.         0.         0.         0.\n",
      "  0.         0.         0.         0.        ]\n",
      " [0.         0.         0.         0.         0.         0.\n",
      "  0.         0.         0.         0.         0.         0.\n",
      "  0.         0.         0.         0.         0.         0.\n",
      "  0.         0.         0.         0.         0.         0.\n",
      "  0.         0.         0.         0.        ]\n",
      " [0.         0.         0.         0.         0.         0.\n",
      "  0.         0.         0.         0.         0.         0.\n",
      "  0.         0.         0.         0.         0.         0.\n",
      "  0.         0.         0.         0.         0.         0.\n",
      "  0.         0.         0.         0.        ]\n",
      " [0.         0.         0.         0.         0.         0.\n",
      "  0.         0.         0.         0.         0.         0.\n",
      "  0.         0.         0.         0.         0.         0.\n",
      "  0.         0.         0.         0.         0.         0.\n",
      "  0.         0.         0.         0.        ]\n",
      " [0.         0.         0.         0.         0.         0.\n",
      "  0.         0.         0.         0.         0.         0.\n",
      "  0.         0.         0.         0.         0.         0.\n",
      "  0.         0.         0.         0.         0.         0.\n",
      "  0.         0.         0.         0.        ]\n",
      " [0.         0.         0.         0.         0.         0.\n",
      "  0.         0.         0.         0.         0.         0.\n",
      "  0.00393124 0.02332955 0.02620568 0.02625207 0.17420356 0.17566281\n",
      "  0.28629534 0.05664824 0.51877786 0.71632322 0.77892406 0.89301644\n",
      "  0.         0.         0.         0.        ]\n",
      " [0.         0.         0.         0.         0.         0.\n",
      "  0.         0.         0.05780486 0.06524513 0.16128198 0.22713296\n",
      "  0.22277047 0.32790981 0.36833534 0.3689874  0.34978968 0.32678448\n",
      "  0.368094   0.3747499  0.79066747 0.67980478 0.61494005 0.45002403\n",
      "  0.         0.         0.         0.        ]\n",
      " [0.         0.         0.         0.         0.         0.\n",
      "  0.         0.12250613 0.45858525 0.45852825 0.43408872 0.37314701\n",
      "  0.33153488 0.32790981 0.36833534 0.3689874  0.34978968 0.32420121\n",
      "  0.15214552 0.17865984 0.25626376 0.1573102  0.12298801 0.\n",
      "  0.         0.         0.         0.        ]\n",
      " [0.         0.         0.         0.         0.         0.\n",
      "  0.         0.04500225 0.4219755  0.45852825 0.43408872 0.37314701\n",
      "  0.33153488 0.32790981 0.28826244 0.26543758 0.34149427 0.31128482\n",
      "  0.         0.         0.         0.         0.         0.\n",
      "  0.         0.         0.         0.        ]\n",
      " [0.         0.         0.         0.         0.         0.\n",
      "  0.         0.         0.1541463  0.28272888 0.18358693 0.37314701\n",
      "  0.33153488 0.26569767 0.01601458 0.         0.05945042 0.19891229\n",
      "  0.         0.         0.         0.         0.         0.\n",
      "  0.         0.         0.         0.        ]\n",
      " [0.         0.         0.         0.         0.         0.\n",
      "  0.         0.         0.         0.0253731  0.00171577 0.22713296\n",
      "  0.33153488 0.11664776 0.         0.         0.         0.\n",
      "  0.         0.         0.         0.         0.         0.\n",
      "  0.         0.         0.         0.        ]\n",
      " [0.         0.         0.         0.         0.         0.\n",
      "  0.         0.         0.         0.         0.         0.20500962\n",
      "  0.33153488 0.24625638 0.00291174 0.         0.         0.\n",
      "  0.         0.         0.         0.         0.         0.\n",
      "  0.         0.         0.         0.        ]\n",
      " [0.         0.         0.         0.         0.         0.\n",
      "  0.         0.         0.         0.         0.         0.01622378\n",
      "  0.24897876 0.32790981 0.10191096 0.         0.         0.\n",
      "  0.         0.         0.         0.         0.         0.\n",
      "  0.         0.         0.         0.        ]\n",
      " [0.         0.         0.         0.         0.         0.\n",
      "  0.         0.         0.         0.         0.         0.\n",
      "  0.04586451 0.31235677 0.32757096 0.23335172 0.14931733 0.00129164\n",
      "  0.         0.         0.         0.         0.         0.\n",
      "  0.         0.         0.         0.        ]\n",
      " [0.         0.         0.         0.         0.         0.\n",
      "  0.         0.         0.         0.         0.         0.\n",
      "  0.         0.10498298 0.34940902 0.3689874  0.34978968 0.15370495\n",
      "  0.04089933 0.         0.         0.         0.         0.\n",
      "  0.         0.         0.         0.        ]\n",
      " [0.         0.         0.         0.         0.         0.\n",
      "  0.         0.         0.         0.         0.         0.\n",
      "  0.         0.         0.06551419 0.27127137 0.34978968 0.32678448\n",
      "  0.245396   0.05882702 0.         0.         0.         0.\n",
      "  0.         0.         0.         0.        ]\n",
      " [0.         0.         0.         0.         0.         0.\n",
      "  0.         0.         0.         0.         0.         0.\n",
      "  0.         0.         0.         0.02333517 0.12857881 0.32549285\n",
      "  0.41390126 0.40743158 0.         0.         0.         0.\n",
      "  0.         0.         0.         0.        ]\n",
      " [0.         0.         0.         0.         0.         0.\n",
      "  0.         0.         0.         0.         0.         0.\n",
      "  0.         0.         0.         0.         0.         0.32161793\n",
      "  0.41390126 0.54251585 0.20001074 0.         0.         0.\n",
      "  0.         0.         0.         0.        ]\n",
      " [0.         0.         0.         0.         0.         0.\n",
      "  0.         0.         0.         0.         0.         0.\n",
      "  0.         0.         0.06697006 0.18959827 0.25300993 0.32678448\n",
      "  0.41390126 0.45100715 0.00625034 0.         0.         0.\n",
      "  0.         0.         0.         0.        ]\n",
      " [0.         0.         0.         0.         0.         0.\n",
      "  0.         0.         0.         0.         0.         0.\n",
      "  0.05110617 0.19182076 0.33339444 0.3689874  0.34978968 0.32678448\n",
      "  0.40899334 0.39653769 0.         0.         0.         0.\n",
      "  0.         0.         0.         0.        ]\n",
      " [0.         0.         0.         0.         0.         0.\n",
      "  0.         0.         0.         0.         0.04117838 0.16813739\n",
      "  0.28960162 0.32790981 0.36833534 0.3689874  0.34978968 0.25961929\n",
      "  0.12760592 0.         0.         0.         0.         0.\n",
      "  0.         0.         0.         0.        ]\n",
      " [0.         0.         0.         0.         0.         0.\n",
      "  0.         0.         0.04431706 0.11961607 0.36545809 0.37314701\n",
      "  0.33153488 0.32790981 0.36833534 0.28877275 0.111988   0.00258328\n",
      "  0.         0.         0.         0.         0.         0.\n",
      "  0.         0.         0.         0.        ]\n",
      " [0.         0.         0.         0.         0.         0.\n",
      "  0.05298497 0.42752138 0.4219755  0.45852825 0.43408872 0.37314701\n",
      "  0.33153488 0.25273681 0.11646967 0.01312603 0.         0.\n",
      "  0.         0.         0.         0.         0.         0.\n",
      "  0.         0.         0.         0.        ]\n",
      " [0.         0.         0.         0.         0.37491383 0.56222061\n",
      "  0.66525569 0.63253163 0.48748768 0.45852825 0.43408872 0.359873\n",
      "  0.17428513 0.01425695 0.         0.         0.         0.\n",
      "  0.         0.         0.         0.         0.         0.\n",
      "  0.         0.         0.         0.        ]\n",
      " [0.         0.         0.         0.         0.92705966 0.82698729\n",
      "  0.74473314 0.63253163 0.4084877  0.24466922 0.22648107 0.02359823\n",
      "  0.         0.         0.         0.         0.         0.\n",
      "  0.         0.         0.         0.         0.         0.\n",
      "  0.         0.         0.         0.        ]\n",
      " [0.         0.         0.         0.         0.         0.\n",
      "  0.         0.         0.         0.         0.         0.\n",
      "  0.         0.         0.         0.         0.         0.\n",
      "  0.         0.         0.         0.         0.         0.\n",
      "  0.         0.         0.         0.        ]\n",
      " [0.         0.         0.         0.         0.         0.\n",
      "  0.         0.         0.         0.         0.         0.\n",
      "  0.         0.         0.         0.         0.         0.\n",
      "  0.         0.         0.         0.         0.         0.\n",
      "  0.         0.         0.         0.        ]\n",
      " [0.         0.         0.         0.         0.         0.\n",
      "  0.         0.         0.         0.         0.         0.\n",
      "  0.         0.         0.         0.         0.         0.\n",
      "  0.         0.         0.         0.         0.         0.\n",
      "  0.         0.         0.         0.        ]]\n"
     ]
    }
   ],
   "source": [
    "#Checking the Values of Each Pixel: after normalization\n",
    "print(x_train[0])"
   ]
  },
  {
   "cell_type": "code",
   "execution_count": 10,
   "id": "4f7a08c1-109f-40b6-9332-87479ffa4ef0",
   "metadata": {
    "tags": []
   },
   "outputs": [
    {
     "name": "stdout",
     "output_type": "stream",
     "text": [
      "5\n"
     ]
    }
   ],
   "source": [
    "#checking that we have labels inside our network\n",
    "print(y_train[0])"
   ]
  },
  {
   "cell_type": "markdown",
   "id": "87c55071-1ccd-4991-b89e-84c069f23859",
   "metadata": {},
   "source": [
    "## resizing image --> to make it suitable for applying convolution operation and make sure all input data have same dimension\n",
    "\n",
    "### reshape():\n",
    "### - number of elements in original array must equal to the total number of elements in new shape\n",
    "### - generally for CNNs --> 4D data for images and 3D data for sequences/non-image data\n",
    "### - for images --> need to add the channel (grayscale (1) or rgb)\n",
    "### - CNNs & frameworks like TensorFlow typically expect input data to have this size: (height, width, channels)\n",
    "### -1 = placeholder that computes the right size of the array when other dimension are specified "
   ]
  },
  {
   "cell_type": "code",
   "execution_count": 11,
   "id": "d2259f14-563f-4767-b9f9-96aecbb20b9b",
   "metadata": {
    "tags": []
   },
   "outputs": [
    {
     "name": "stdout",
     "output_type": "stream",
     "text": [
      "Training Samples dimension (60000, 28, 28, 1)\n",
      "Testing Samples dimension (10000, 28, 28, 1)\n"
     ]
    }
   ],
   "source": [
    "IMG_SIZE = 28\n",
    "x_train_resize = np.array(x_train).reshape(-1, IMG_SIZE, IMG_SIZE, 1)\n",
    "x_test_resize = np.array(x_test).reshape(-1, IMG_SIZE, IMG_SIZE, 1)\n",
    "print(\"Training Samples dimension\", x_train_resize.shape)\n",
    "print(\"Testing Samples dimension\", x_test_resize.shape)"
   ]
  },
  {
   "cell_type": "markdown",
   "id": "0b3d1984-32e5-4a80-b065-4a9d1ff7127f",
   "metadata": {},
   "source": [
    "# Step 4: Build Deep Learning Model"
   ]
  },
  {
   "cell_type": "markdown",
   "id": "a7993f11-4fca-4d02-980f-acdbef976eb6",
   "metadata": {},
   "source": [
    "# Creating a Deep Neural Network\n",
    "\n",
    "##  Training on 60,000 samples of MNIST handwritten dataset \n",
    "\n",
    "\n",
    "\n",
    "## Model\n",
    "* * * \n",
    "\n",
    "###    Sequential \n",
    " -  Linear Stack of layers you can add one at a time\n",
    " -  can also model.add() to add layers in the below code\n",
    "\n",
    "## Layers \n",
    "* * * \n",
    "\n",
    "### Dense\n",
    "* Fully connected layer where each neuron recieves input from all neurons in the previous layer\n",
    "\n",
    "### Drouput\n",
    "* Used to prevent overfitting by randomly setting a fraction of input units to 0 during training\n",
    "* Ex) Drouput(0.5) --> Drops out 50% of inputs during training\n",
    "\n",
    "### Activation\n",
    "* Applies an activation funtion to the output of previous layer\n",
    "* The activation function decides whether a neuron should be activated(output a non-zero val) or not(output a 0 val)\n",
    "* Common functions: ReLu, Sigmoid, Tanh, Softmax\n",
    "\n",
    "### Conv2D\n",
    "* Preforms 2-dimensional convolution operation\n",
    "    - Convolution Operation: A function where filter slides over input data and preforms mathematical computation\n",
    "* Data is represented in a 2D grid where each element is a pixel, 2D convolutional layer operates on 2D input data such as images and it preforms Convolution operation <br>\n",
    "    ##### Conv2D(32, (3, 3), activation='relu', input_shape=(32, 32, 3))\n",
    "    * 32 = # Filters --> are small grids that scans images\n",
    "    * (3,3) = Kernel Size --> Size of each filter: (3,3) means that each filter looks at 3x3 pixels at a time\n",
    "    * activation='relu' = Activation function (ReLu) --> sets negative values to 0 and keeps positive values unchanged\n",
    "    * input_shape = (32,32,3) = Input Shape --> tells network the dimensions of input image are\n",
    "        * (32,32,3) means 32 pixels high, 32 pixels wide, and has 3 color channels (RGB)\n",
    "\n",
    "### MaxPooling2D\n",
    "* Preforms Max Pooling on spatial dimensions which reduces the dimensions of input volumes \n",
    "* Taking the max of the input matrix using the filter matrix\n",
    "    #### MaxPooling2D(pool_size = (2,2))\n",
    "    * Applies max pooling wiht a size of 2x2 pixels"
   ]
  },
  {
   "cell_type": "code",
   "execution_count": 12,
   "id": "d316994c-530c-4fbe-9e5b-d6fbc58fe2bf",
   "metadata": {
    "tags": []
   },
   "outputs": [],
   "source": [
    "from tensorflow.keras.models import Sequential\n",
    "from tensorflow.keras.layers import Dense, Flatten, Conv2D, MaxPooling2D"
   ]
  },
  {
   "cell_type": "code",
   "execution_count": 13,
   "id": "92748dce-21fc-409e-ab96-4e6f67b50573",
   "metadata": {
    "tags": []
   },
   "outputs": [],
   "source": [
    "model = Sequential([\n",
    "\n",
    "    #first layer --> need to specify input layer size\n",
    "    Conv2D(64, (3,3), activation = 'relu', input_shape = x_train_resize.shape[1:]),\n",
    "    MaxPooling2D((2,2)),\n",
    "    \n",
    "    #second layer --> don't need to specify input since output of last layer is input of this layer\n",
    "    Conv2D(64, (3,3), activation = 'relu'),\n",
    "    MaxPooling2D((2,2)),\n",
    "\n",
    "    #third layer\n",
    "    Conv2D(64, (3,3), activation = 'relu'),\n",
    "    MaxPooling2D((2,2)),\n",
    "    \n",
    "    #first fully connected layer\n",
    "    Flatten(),\n",
    "    Dense(64, activation = 'relu'),\n",
    "    \n",
    "    #second fully connected layer\n",
    "    Dense(32, activation = 'relu'),\n",
    "\n",
    "    #output layer --> softmax for multiple classification\n",
    "    Dense(10, activation = 'softmax')\n",
    "])\n"
   ]
  },
  {
   "cell_type": "code",
   "execution_count": 14,
   "id": "fe0c5099-b18f-4bcd-bd36-085f63e32423",
   "metadata": {
    "tags": []
   },
   "outputs": [
    {
     "name": "stdout",
     "output_type": "stream",
     "text": [
      "Model: \"sequential\"\n",
      "_________________________________________________________________\n",
      " Layer (type)                Output Shape              Param #   \n",
      "=================================================================\n",
      " conv2d (Conv2D)             (None, 26, 26, 64)        640       \n",
      "                                                                 \n",
      " max_pooling2d (MaxPooling2D  (None, 13, 13, 64)       0         \n",
      " )                                                               \n",
      "                                                                 \n",
      " conv2d_1 (Conv2D)           (None, 11, 11, 64)        36928     \n",
      "                                                                 \n",
      " max_pooling2d_1 (MaxPooling  (None, 5, 5, 64)         0         \n",
      " 2D)                                                             \n",
      "                                                                 \n",
      " conv2d_2 (Conv2D)           (None, 3, 3, 64)          36928     \n",
      "                                                                 \n",
      " max_pooling2d_2 (MaxPooling  (None, 1, 1, 64)         0         \n",
      " 2D)                                                             \n",
      "                                                                 \n",
      " flatten (Flatten)           (None, 64)                0         \n",
      "                                                                 \n",
      " dense (Dense)               (None, 64)                4160      \n",
      "                                                                 \n",
      " dense_1 (Dense)             (None, 32)                2080      \n",
      "                                                                 \n",
      " dense_2 (Dense)             (None, 10)                330       \n",
      "                                                                 \n",
      "=================================================================\n",
      "Total params: 81,066\n",
      "Trainable params: 81,066\n",
      "Non-trainable params: 0\n",
      "_________________________________________________________________\n"
     ]
    }
   ],
   "source": [
    "model.summary()"
   ]
  },
  {
   "cell_type": "code",
   "execution_count": 15,
   "id": "17ea63a4-1d5a-4a37-8b6e-75003116889f",
   "metadata": {
    "tags": []
   },
   "outputs": [],
   "source": [
    "model.compile(loss = \"sparse_categorical_crossentropy\", optimizer = 'adam', metrics = ['accuracy'])"
   ]
  },
  {
   "cell_type": "markdown",
   "id": "f9c0e419-5caa-435f-8f5f-44bacb3c186a",
   "metadata": {},
   "source": [
    "# Step 5: Train"
   ]
  },
  {
   "cell_type": "code",
   "execution_count": 16,
   "id": "10e10c39-addc-406b-a48c-5f76b2692dc6",
   "metadata": {
    "tags": []
   },
   "outputs": [
    {
     "name": "stdout",
     "output_type": "stream",
     "text": [
      "Epoch 1/15\n",
      "1125/1125 [==============================] - 37s 32ms/step - loss: 0.3457 - accuracy: 0.8911 - val_loss: 0.1341 - val_accuracy: 0.9578\n",
      "Epoch 2/15\n",
      "1125/1125 [==============================] - 36s 32ms/step - loss: 0.1068 - accuracy: 0.9677 - val_loss: 0.1193 - val_accuracy: 0.9651\n",
      "Epoch 3/15\n",
      "1125/1125 [==============================] - 35s 31ms/step - loss: 0.0761 - accuracy: 0.9765 - val_loss: 0.0756 - val_accuracy: 0.9777\n",
      "Epoch 4/15\n",
      "1125/1125 [==============================] - 38s 34ms/step - loss: 0.0580 - accuracy: 0.9824 - val_loss: 0.0707 - val_accuracy: 0.9801\n",
      "Epoch 5/15\n",
      "1125/1125 [==============================] - 35s 31ms/step - loss: 0.0458 - accuracy: 0.9855 - val_loss: 0.0960 - val_accuracy: 0.9724\n",
      "Epoch 6/15\n",
      "1125/1125 [==============================] - 37s 33ms/step - loss: 0.0393 - accuracy: 0.9878 - val_loss: 0.0674 - val_accuracy: 0.9798\n",
      "Epoch 7/15\n",
      "1125/1125 [==============================] - 36s 32ms/step - loss: 0.0321 - accuracy: 0.9894 - val_loss: 0.0619 - val_accuracy: 0.9825\n",
      "Epoch 8/15\n",
      "1125/1125 [==============================] - 42s 37ms/step - loss: 0.0266 - accuracy: 0.9916 - val_loss: 0.0660 - val_accuracy: 0.9816\n",
      "Epoch 9/15\n",
      "1125/1125 [==============================] - 41s 36ms/step - loss: 0.0201 - accuracy: 0.9931 - val_loss: 0.0659 - val_accuracy: 0.9835\n",
      "Epoch 10/15\n",
      "1125/1125 [==============================] - 35s 31ms/step - loss: 0.0199 - accuracy: 0.9937 - val_loss: 0.0645 - val_accuracy: 0.9848\n",
      "Epoch 11/15\n",
      "1125/1125 [==============================] - 36s 32ms/step - loss: 0.0203 - accuracy: 0.9934 - val_loss: 0.0694 - val_accuracy: 0.9829\n",
      "Epoch 12/15\n",
      "1125/1125 [==============================] - 35s 31ms/step - loss: 0.0146 - accuracy: 0.9952 - val_loss: 0.0701 - val_accuracy: 0.9830\n",
      "Epoch 13/15\n",
      "1125/1125 [==============================] - 39s 35ms/step - loss: 0.0141 - accuracy: 0.9951 - val_loss: 0.0663 - val_accuracy: 0.9841\n",
      "Epoch 14/15\n",
      "1125/1125 [==============================] - 39s 35ms/step - loss: 0.0099 - accuracy: 0.9965 - val_loss: 0.0861 - val_accuracy: 0.9807\n",
      "Epoch 15/15\n",
      "1125/1125 [==============================] - 36s 32ms/step - loss: 0.0112 - accuracy: 0.9967 - val_loss: 0.0733 - val_accuracy: 0.9858\n"
     ]
    }
   ],
   "source": [
    "#epochs = number of times model iterates\n",
    "#validation_split = amount of training data set aside for model evalution during training process\n",
    "hist = model.fit(x_train_resize, y_train, epochs = 15, validation_split = 0.4)"
   ]
  },
  {
   "cell_type": "markdown",
   "id": "9b4a8813-9275-4d63-afc9-5452846af448",
   "metadata": {},
   "source": [
    "# Step 6: Plot Performance\n",
    "\n",
    "### Loss and Val_Loss:\n",
    "* Tells us how well the model is preforming\n",
    "* Loss vs Val_Loss\n",
    "    * Loss --> refers to the val of loss function calculated <b>during training</b> process\n",
    "    * Val_Loss --> refers to the val of loss function calculated on a <b>separate set</b> of data called <b>validation set </b>\n",
    "        * Validation set not used in training process and is unseen by model\n",
    "    \n",
    "### Accuracy vs Val_Accuracy\n",
    "* Tells us how well the model predicted the right val\n",
    "* Accuracy vs Val_Accuracy\n",
    "    * Accuracy --> referes to the proportion <b>during training </b> for the right answers/total data to see how accurate the model is\n",
    "    * Val_Accuracy --> refers to proportion for right answers/total data to see how accurate the model is <b>for the validation set</b>"
   ]
  },
  {
   "cell_type": "code",
   "execution_count": 17,
   "id": "8052f607-433d-4a97-91e2-283c4e1fcd94",
   "metadata": {
    "tags": []
   },
   "outputs": [
    {
     "data": {
      "image/png": "[encoded data removed]",
      "text/plain": [
       "<Figure size 640x480 with 1 Axes>"
      ]
     },
     "metadata": {},
     "output_type": "display_data"
    }
   ],
   "source": [
    "# X-axis --> num of epochs\n",
    "# Y-axis --> what the value of the loss is\n",
    "\n",
    "# This graph shows us that as the num of epochs increase, the val loss and loss decreases which is good for our model\n",
    "# loss and val_loss seem about the same --> avoids ovefitting\n",
    "\n",
    "fig = plt.figure()\n",
    "plt.plot(hist.history['loss'], color='teal', label='loss')\n",
    "plt.plot(hist.history['val_loss'], color='orange', label='val_loss')\n",
    "fig.suptitle('Loss', fontsize=20)\n",
    "plt.legend(loc=\"upper left\")\n",
    "plt.show()"
   ]
  },
  {
   "cell_type": "code",
   "execution_count": 18,
   "id": "0693af22-2f64-46c7-a4db-6b79cc5e8775",
   "metadata": {},
   "outputs": [
    {
     "data": {
      "image/png": "[encoded data removed]",
      "text/plain": [
       "<Figure size 640x480 with 1 Axes>"
      ]
     },
     "metadata": {},
     "output_type": "display_data"
    }
   ],
   "source": [
    "# X-axis --> num of epochs\n",
    "# Y-axis --> what the value of the accuarcy is\n",
    "\n",
    "# This graph shows us that as the num of epochs increase, the val_accuracy and accuracy increases which is good for our model\n",
    "# accuracy and val_accuracy about the same --> avoids overfitting\n",
    "\n",
    "fig = plt.figure()\n",
    "plt.plot(hist.history['accuracy'], color='teal', label='accuracy')\n",
    "plt.plot(hist.history['val_accuracy'], color='orange', label='val_accuracy')\n",
    "fig.suptitle('Accuracy', fontsize=20)\n",
    "plt.legend(loc=\"upper left\")\n",
    "plt.show()"
   ]
  },
  {
   "cell_type": "markdown",
   "id": "811cf8de-3a85-49c4-be38-af288ed3cdce",
   "metadata": {},
   "source": [
    "# Step 7: Evaluate"
   ]
  },
  {
   "cell_type": "code",
   "execution_count": 19,
   "id": "479b9eae-4a8f-48d3-9860-69ba4bada22c",
   "metadata": {
    "tags": []
   },
   "outputs": [
    {
     "name": "stdout",
     "output_type": "stream",
     "text": [
      "313/313 [==============================] - 4s 12ms/step - loss: 0.0619 - accuracy: 0.9872\n"
     ]
    },
    {
     "data": {
      "text/plain": [
       "[0.06185367330908775, 0.9872000217437744]"
      ]
     },
     "execution_count": 19,
     "metadata": {},
     "output_type": "execute_result"
    }
   ],
   "source": [
    "#evaluting testing data set \n",
    "model.evaluate(x_test_resize, y_test)"
   ]
  },
  {
   "cell_type": "markdown",
   "id": "0c67fbfb-1aa8-4ce6-8efd-426358e45bf1",
   "metadata": {
    "tags": []
   },
   "source": [
    "# Step 8: Test"
   ]
  },
  {
   "cell_type": "code",
   "execution_count": 20,
   "id": "80456999-f340-4f09-bc31-c721a9710f16",
   "metadata": {
    "tags": []
   },
   "outputs": [
    {
     "name": "stdout",
     "output_type": "stream",
     "text": [
      "7\n"
     ]
    },
    {
     "data": {
      "image/png": "[encoded data removed]",
      "text/plain": [
       "<Figure size 640x480 with 1 Axes>"
      ]
     },
     "metadata": {},
     "output_type": "display_data"
    }
   ],
   "source": [
    "#shows model predicted the images in testing set\n",
    "plt.imshow(x_test[0])\n",
    "print(np.argmax(model.predict([x_test_resize])[0]))"
   ]
  },
  {
   "cell_type": "code",
   "execution_count": 131,
   "id": "6f2e6fcf-acdb-48fd-870f-c9b3f088b686",
   "metadata": {
    "tags": []
   },
   "outputs": [
    {
     "data": {
      "text/plain": [
       "(490, 439, 3)"
      ]
     },
     "execution_count": 131,
     "metadata": {},
     "output_type": "execute_result"
    },
    {
     "data": {
      "image/png": "[encoded data removed]",
      "text/plain": [
       "<Figure size 640x480 with 1 Axes>"
      ]
     },
     "metadata": {},
     "output_type": "display_data"
    }
   ],
   "source": [
    "#test our own images\n",
    "import cv2\n",
    "\n",
    "#load image\n",
    "img = cv2.imread('nine.png')\n",
    "\n",
    "plt.imshow(img)\n",
    "\n",
    "img.shape"
   ]
  },
  {
   "cell_type": "code",
   "execution_count": 132,
   "id": "932e65ef-6ebf-48a5-84e4-339efefde293",
   "metadata": {
    "tags": []
   },
   "outputs": [
    {
     "data": {
      "text/plain": [
       "(490, 439)"
      ]
     },
     "execution_count": 132,
     "metadata": {},
     "output_type": "execute_result"
    }
   ],
   "source": [
    "#resize image \n",
    "\n",
    "#removes channel 3 (RGB)\n",
    "gray = cv2.cvtColor(img, cv2.COLOR_BGR2GRAY)\n",
    "gray.shape"
   ]
  },
  {
   "cell_type": "code",
   "execution_count": 133,
   "id": "82a203ec-0515-438e-a35a-2fd8fc357ea3",
   "metadata": {
    "tags": []
   },
   "outputs": [
    {
     "data": {
      "text/plain": [
       "(28, 28)"
      ]
     },
     "execution_count": 133,
     "metadata": {},
     "output_type": "execute_result"
    }
   ],
   "source": [
    "#resize dimensions\n",
    "\n",
    "#gray = gray scale\n",
    "#cv2.INTER_AREA --> recommened method for downscaling\n",
    "resized = cv2.resize(gray, (28,28), interpolation = cv2.INTER_AREA)\n",
    "resized.shape"
   ]
  },
  {
   "cell_type": "code",
   "execution_count": 134,
   "id": "69c53349-467f-4fa3-81c1-efba0c8da9c3",
   "metadata": {
    "tags": []
   },
   "outputs": [
    {
     "data": {
      "text/plain": [
       "(1, 28, 28, 1)"
      ]
     },
     "execution_count": 134,
     "metadata": {},
     "output_type": "execute_result"
    }
   ],
   "source": [
    "#normalize features (0 to 1 scaling)\n",
    "new_img = tf.keras.utils.normalize(resized, axis = 1)\n",
    "\n",
    "#add grayscale channel and dimension for convolutional operation\n",
    "new_img = np.array(new_img).reshape(-1, IMG_SIZE, IMG_SIZE, 1)\n",
    "\n",
    "new_img.shape"
   ]
  },
  {
   "cell_type": "code",
   "execution_count": 135,
   "id": "48c2d8cf-1779-43fc-b27d-b90d4dc6a871",
   "metadata": {
    "tags": []
   },
   "outputs": [
    {
     "name": "stdout",
     "output_type": "stream",
     "text": [
      "9\n"
     ]
    }
   ],
   "source": [
    "#test the prediction\n",
    "pred = model.predict(new_img)\n",
    "print(np.argmax(pred))"
   ]
  },
  {
   "cell_type": "markdown",
   "id": "bc8006a6-da61-4c74-96ae-d720bcefbf51",
   "metadata": {},
   "source": [
    "# Save the Model"
   ]
  },
  {
   "cell_type": "code",
   "execution_count": 137,
   "id": "9184b31c-3151-4679-a000-988e98004c04",
   "metadata": {
    "tags": []
   },
   "outputs": [],
   "source": [
    "from tensorflow.keras.models import load_model\n",
    "\n",
    "model.save(os.path.join('saved_models', 'handwritten_digit_model1.h5'))"
   ]
  },
  {
   "cell_type": "code",
   "execution_count": 175,
   "id": "b62f525a-6089-4b7e-af3a-dc3675e611c8",
   "metadata": {
    "tags": []
   },
   "outputs": [],
   "source": [
    "#pre process image\n",
    "\n",
    "new_model = load_model(os.path.join('saved_models', 'handwritten_digit_model1.h5'))\n",
    "\n",
    "img = cv2.imread('one.png')\n",
    "gray = cv2.cvtColor(img, cv2.COLOR_BGR2GRAY)\n",
    "resized = cv2.resize(gray, (28,28), interpolation = cv2.INTER_AREA)\n",
    "new_img = tf.keras.utils.normalize(resized, axis = 1)\n",
    "new_img = np.array(new_img).reshape(-1, IMG_SIZE, IMG_SIZE, 1)"
   ]
  },
  {
   "cell_type": "code",
   "execution_count": 176,
   "id": "7ab630d5-e3e3-4923-86c3-1aacf7183305",
   "metadata": {
    "tags": []
   },
   "outputs": [
    {
     "name": "stdout",
     "output_type": "stream",
     "text": [
      "1\n"
     ]
    }
   ],
   "source": [
    "pred = new_model.predict(new_img)\n",
    "print(np.argmax(pred))"
   ]
  }
 ],
 "metadata": {
  "kernelspec": {
   "display_name": "handwrittendigit",
   "language": "python",
   "name": "handwrittendigit"
  },
  "language_info": {
   "codemirror_mode": {
    "name": "ipython",
    "version": 3
   },
   "file_extension": ".py",
   "mimetype": "text/x-python",
   "name": "python",
   "nbconvert_exporter": "python",
   "pygments_lexer": "ipython3",
   "version": "3.9.18"
  }
 },
 "nbformat": 4,
 "nbformat_minor": 5
}
